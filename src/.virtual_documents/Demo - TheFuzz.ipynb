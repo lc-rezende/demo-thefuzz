





# !pip install thefuzz faker


from faker import Faker
from thefuzz import fuzz, process





phrase1 = "Adobe Systems, Inc"
phrase2 = "Adobe Systems, Corporation"


scores: dict = {}


scores["ratio"]                    = fuzz.ratio("Adobe Systems, Inc", "Adobe Systems, Corporation")
scores["partial ratio"]            = fuzz.partial_ratio("Adobe Systems, Inc", "Adobe Systems, Corporation")
scores["token sort ratio"]         = fuzz.token_sort_ratio("Adobe Systems, Inc", "Adobe Systems, Corporation")
scores["token set ratio"]          = fuzz.token_set_ratio("Adobe Systems, Inc", "Adobe Systems, Corporation")
scores["partial token sort ratio"] = fuzz.partial_token_sort_ratio("Adobe Systems, Inc", "Adobe Systems, Corporation")
scores["partial token set ratio"]  = fuzz.partial_token_set_ratio("Adobe Systems, Inc", "Adobe Systems, Corporation")


scores








sample_size: int = 10


fkr = Faker()


names: list = []

for i in range(0, sample_size):
    names.append(fkr.name())


for name in names:
    print(name)








name_to_extract = "Patrik"


process.extract(name_to_extract, names)


process.extract(name_to_extract, names, scorer=fuzz.token_sort_ratio)


process.extract(name_to_extract, names, scorer=fuzz.token_set_ratio)


process.extract(name_to_extract, names, scorer=fuzz.partial_token_sort_ratio)


process.extract(name_to_extract, names, scorer=fuzz.partial_token_set_ratio)





process.extractOne(name_to_extract, names)


process.extractOne(name_to_extract, names, scorer=fuzz.token_sort_ratio)


process.extractOne(name_to_extract, names, scorer=fuzz.token_set_ratio)


process.extractOne(name_to_extract, names, scorer=fuzz.partial_token_sort_ratio)


process.extractOne(name_to_extract, names, scorer=fuzz.partial_token_set_ratio)
