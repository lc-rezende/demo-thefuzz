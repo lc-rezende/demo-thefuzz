{
 "cells": [
  {
   "cell_type": "markdown",
   "id": "b81eaaaf-9a18-431f-a5ff-7280464e77d5",
   "metadata": {},
   "source": [
    "# TheFuzz Library Demo\n",
    "\n",
    "This notebook serves as a lab environment for testing and exploring the functionalities of the **[TheFuzz](https://github.com/seatgeek/thefuzz)** Python library (formerly known as *fuzzywuzzy*).  \n",
    "TheFuzz provides powerful tools for **fuzzy string matching**, enabling comparison of strings based on similarity ratios rather than exact matches.\n",
    "\n",
    "In this lab, I will experiment with different use cases, including:\n",
    "- Basic string similarity comparisons\n",
    "- Partial and token-based matching\n",
    "- Extracting best matches from a list of choices\n",
    "- Custom scoring functions and threshold tuning\n",
    "\n",
    "---\n",
    "\n",
    "📌 This notebook is intended for learning, experimentation, and validating how TheFuzz behaves with different types of string data.\n",
    "\n",
    "---"
   ]
  },
  {
   "cell_type": "markdown",
   "id": "8d6ce8ce-1e3b-4d3f-9b62-0519430c5c3e",
   "metadata": {},
   "source": [
    "## Packages installation and import"
   ]
  },
  {
   "cell_type": "code",
   "execution_count": 1,
   "id": "d38e24ae-ae51-408d-82af-3c09dc827c4b",
   "metadata": {},
   "outputs": [],
   "source": [
    "# !pip install thefuzz faker"
   ]
  },
  {
   "cell_type": "code",
   "execution_count": 2,
   "id": "c3a2883b-bfa7-4aa1-b848-fb990348c40f",
   "metadata": {},
   "outputs": [],
   "source": [
    "from faker import Faker\n",
    "from thefuzz import fuzz, process"
   ]
  },
  {
   "cell_type": "markdown",
   "id": "5947c94b-857c-4716-bb9b-950a74eeec09",
   "metadata": {},
   "source": [
    "## TheFuzzy Matching"
   ]
  },
  {
   "cell_type": "code",
   "execution_count": 3,
   "id": "0e3e6c83-18b8-4d17-b225-a83d09964395",
   "metadata": {},
   "outputs": [],
   "source": [
    "phrase1 = \"Adobe Systems, Inc\"\n",
    "phrase2 = \"Adobe Systems, Corporation\""
   ]
  },
  {
   "cell_type": "code",
   "execution_count": 4,
   "id": "1e852e43-3e5b-4b12-9f9e-cd769b2eeb1f",
   "metadata": {},
   "outputs": [],
   "source": [
    "scores: dict = {}"
   ]
  },
  {
   "cell_type": "code",
   "execution_count": 5,
   "id": "2195458b-26e1-4eab-ac9d-e896c6504c8e",
   "metadata": {},
   "outputs": [],
   "source": [
    "scores[\"ratio\"]                    = fuzz.ratio(\"Adobe Systems, Inc\", \"Adobe Systems, Corporation\")\n",
    "scores[\"partial ratio\"]            = fuzz.partial_ratio(\"Adobe Systems, Inc\", \"Adobe Systems, Corporation\")\n",
    "scores[\"token sort ratio\"]         = fuzz.token_sort_ratio(\"Adobe Systems, Inc\", \"Adobe Systems, Corporation\")\n",
    "scores[\"token set ratio\"]          = fuzz.token_set_ratio(\"Adobe Systems, Inc\", \"Adobe Systems, Corporation\")\n",
    "scores[\"partial token sort ratio\"] = fuzz.partial_token_sort_ratio(\"Adobe Systems, Inc\", \"Adobe Systems, Corporation\")\n",
    "scores[\"partial token set ratio\"]  = fuzz.partial_token_set_ratio(\"Adobe Systems, Inc\", \"Adobe Systems, Corporation\")"
   ]
  },
  {
   "cell_type": "code",
   "execution_count": 6,
   "id": "b5c7cc17-b8f3-4919-a642-02c878d0e1a0",
   "metadata": {},
   "outputs": [
    {
     "data": {
      "text/plain": [
       "{'ratio': 73,\n",
       " 'partial ratio': 91,\n",
       " 'token sort ratio': 76,\n",
       " 'token set ratio': 87,\n",
       " 'partial token sort ratio': 74,\n",
       " 'partial token set ratio': 100}"
      ]
     },
     "execution_count": 6,
     "metadata": {},
     "output_type": "execute_result"
    }
   ],
   "source": [
    "scores"
   ]
  },
  {
   "cell_type": "markdown",
   "id": "2d421bf0-edff-43c1-af1d-01f731ed58ad",
   "metadata": {},
   "source": [
    "## TheFuzz Process"
   ]
  },
  {
   "cell_type": "markdown",
   "id": "61cacf06-2a13-4dc7-a7e6-36b9358c0547",
   "metadata": {},
   "source": [
    "### Create sample data"
   ]
  },
  {
   "cell_type": "code",
   "execution_count": 7,
   "id": "6fd959a2-c6df-4441-b215-cced59b5f28f",
   "metadata": {},
   "outputs": [],
   "source": [
    "sample_size: int = 10"
   ]
  },
  {
   "cell_type": "code",
   "execution_count": 8,
   "id": "d487310f-a96b-4564-885d-7f5b232af21f",
   "metadata": {},
   "outputs": [],
   "source": [
    "fkr = Faker()"
   ]
  },
  {
   "cell_type": "code",
   "execution_count": 9,
   "id": "d1daacd2-88f6-4943-ac61-f68ce17b7273",
   "metadata": {},
   "outputs": [],
   "source": [
    "names: list = []\n",
    "\n",
    "for i in range(0, sample_size):\n",
    "    names.append(fkr.name())"
   ]
  },
  {
   "cell_type": "code",
   "execution_count": 10,
   "id": "07d21df2-b6db-4ffd-aeb1-8ca578b6fb03",
   "metadata": {},
   "outputs": [
    {
     "name": "stdout",
     "output_type": "stream",
     "text": [
      "Ronald Moore\n",
      "Ryan Holloway\n",
      "Daniel Morales\n",
      "Christina Eaton\n",
      "Amy Leach\n",
      "Michelle Collier\n",
      "Gene Davis\n",
      "Patrick Thompson\n",
      "Daniel Mueller\n",
      "Bryan Owens\n"
     ]
    }
   ],
   "source": [
    "for name in names:\n",
    "    print(name)"
   ]
  },
  {
   "cell_type": "markdown",
   "id": "235e27cc-d54b-4e2a-8e35-956b2fbb8380",
   "metadata": {},
   "source": [
    "### Fuzzy Matchings"
   ]
  },
  {
   "cell_type": "markdown",
   "id": "f04c223a-5d84-401c-92a1-ed9cff585320",
   "metadata": {},
   "source": [
    "#### Extract"
   ]
  },
  {
   "cell_type": "code",
   "execution_count": 22,
   "id": "ab1e99f2-d75a-41a2-9f01-827c93d552b7",
   "metadata": {},
   "outputs": [],
   "source": [
    "name_to_extract = \"Patrik\""
   ]
  },
  {
   "cell_type": "code",
   "execution_count": 23,
   "id": "03508f1b-b6c6-4c17-803c-90e54e287eb0",
   "metadata": {},
   "outputs": [
    {
     "data": {
      "text/plain": [
       "[('Patrick Thompson', 82),\n",
       " ('Daniel Morales', 36),\n",
       " ('Christina Eaton', 36),\n",
       " ('Gene Davis', 36),\n",
       " ('Daniel Mueller', 36)]"
      ]
     },
     "execution_count": 23,
     "metadata": {},
     "output_type": "execute_result"
    }
   ],
   "source": [
    "process.extract(name_to_extract, names)"
   ]
  },
  {
   "cell_type": "code",
   "execution_count": 24,
   "id": "1199e66b-8dc2-469d-bffe-453bd2aacff7",
   "metadata": {},
   "outputs": [
    {
     "data": {
      "text/plain": [
       "[('Patrick Thompson', 55),\n",
       " ('Gene Davis', 25),\n",
       " ('Ryan Holloway', 21),\n",
       " ('Daniel Morales', 20),\n",
       " ('Daniel Mueller', 20)]"
      ]
     },
     "execution_count": 24,
     "metadata": {},
     "output_type": "execute_result"
    }
   ],
   "source": [
    "process.extract(name_to_extract, names, scorer=fuzz.token_sort_ratio)"
   ]
  },
  {
   "cell_type": "code",
   "execution_count": 25,
   "id": "90d56095-5aa1-4ce6-b198-81823a23a220",
   "metadata": {},
   "outputs": [
    {
     "data": {
      "text/plain": [
       "[('Patrick Thompson', 55),\n",
       " ('Gene Davis', 25),\n",
       " ('Ryan Holloway', 21),\n",
       " ('Daniel Morales', 20),\n",
       " ('Daniel Mueller', 20)]"
      ]
     },
     "execution_count": 25,
     "metadata": {},
     "output_type": "execute_result"
    }
   ],
   "source": [
    "process.extract(name_to_extract, names, scorer=fuzz.token_set_ratio)"
   ]
  },
  {
   "cell_type": "code",
   "execution_count": 26,
   "id": "5c37992d-99a3-41c6-90de-6442e4b5b1a8",
   "metadata": {},
   "outputs": [
    {
     "data": {
      "text/plain": [
       "[('Patrick Thompson', 91),\n",
       " ('Daniel Morales', 40),\n",
       " ('Christina Eaton', 40),\n",
       " ('Gene Davis', 40),\n",
       " ('Daniel Mueller', 40)]"
      ]
     },
     "execution_count": 26,
     "metadata": {},
     "output_type": "execute_result"
    }
   ],
   "source": [
    "process.extract(name_to_extract, names, scorer=fuzz.partial_token_sort_ratio)"
   ]
  },
  {
   "cell_type": "code",
   "execution_count": 27,
   "id": "1e70629a-9187-44c5-bb4b-83a17fecf79b",
   "metadata": {},
   "outputs": [
    {
     "data": {
      "text/plain": [
       "[('Patrick Thompson', 91),\n",
       " ('Daniel Morales', 40),\n",
       " ('Christina Eaton', 40),\n",
       " ('Gene Davis', 40),\n",
       " ('Daniel Mueller', 40)]"
      ]
     },
     "execution_count": 27,
     "metadata": {},
     "output_type": "execute_result"
    }
   ],
   "source": [
    "process.extract(name_to_extract, names, scorer=fuzz.partial_token_set_ratio)"
   ]
  },
  {
   "cell_type": "markdown",
   "id": "8570c0bb-79da-4c88-956f-e79b907ed292",
   "metadata": {},
   "source": [
    "#### ExtractOne"
   ]
  },
  {
   "cell_type": "code",
   "execution_count": 28,
   "id": "92e2ae38-734d-44f3-9c03-9fdd90578ce4",
   "metadata": {},
   "outputs": [
    {
     "data": {
      "text/plain": [
       "('Patrick Thompson', 82)"
      ]
     },
     "execution_count": 28,
     "metadata": {},
     "output_type": "execute_result"
    }
   ],
   "source": [
    "process.extractOne(name_to_extract, names)"
   ]
  },
  {
   "cell_type": "code",
   "execution_count": 29,
   "id": "eafb336d-5071-4fd4-99f0-4d33dec8c38c",
   "metadata": {},
   "outputs": [
    {
     "data": {
      "text/plain": [
       "('Patrick Thompson', 55)"
      ]
     },
     "execution_count": 29,
     "metadata": {},
     "output_type": "execute_result"
    }
   ],
   "source": [
    "process.extractOne(name_to_extract, names, scorer=fuzz.token_sort_ratio)"
   ]
  },
  {
   "cell_type": "code",
   "execution_count": 30,
   "id": "277f0c8c-08ba-4ea4-920d-0e240a8123ea",
   "metadata": {},
   "outputs": [
    {
     "data": {
      "text/plain": [
       "('Patrick Thompson', 55)"
      ]
     },
     "execution_count": 30,
     "metadata": {},
     "output_type": "execute_result"
    }
   ],
   "source": [
    "process.extractOne(name_to_extract, names, scorer=fuzz.token_set_ratio)"
   ]
  },
  {
   "cell_type": "code",
   "execution_count": 31,
   "id": "8cb31c2d-78a2-4430-b083-e816e5ca255d",
   "metadata": {},
   "outputs": [
    {
     "data": {
      "text/plain": [
       "('Patrick Thompson', 91)"
      ]
     },
     "execution_count": 31,
     "metadata": {},
     "output_type": "execute_result"
    }
   ],
   "source": [
    "process.extractOne(name_to_extract, names, scorer=fuzz.partial_token_sort_ratio)"
   ]
  },
  {
   "cell_type": "code",
   "execution_count": 32,
   "id": "8671a87f-5b5e-43ab-b82e-481d4935a593",
   "metadata": {},
   "outputs": [
    {
     "data": {
      "text/plain": [
       "('Patrick Thompson', 91)"
      ]
     },
     "execution_count": 32,
     "metadata": {},
     "output_type": "execute_result"
    }
   ],
   "source": [
    "process.extractOne(name_to_extract, names, scorer=fuzz.partial_token_set_ratio)"
   ]
  }
 ],
 "metadata": {
  "kernelspec": {
   "display_name": "theFuzzKernel",
   "language": "python",
   "name": ".venv"
  },
  "language_info": {
   "codemirror_mode": {
    "name": "ipython",
    "version": 3
   },
   "file_extension": ".py",
   "mimetype": "text/x-python",
   "name": "python",
   "nbconvert_exporter": "python",
   "pygments_lexer": "ipython3",
   "version": "3.12.7"
  }
 },
 "nbformat": 4,
 "nbformat_minor": 5
}
